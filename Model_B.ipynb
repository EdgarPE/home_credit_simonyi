{
 "cells": [
  {
   "cell_type": "markdown",
   "metadata": {},
   "source": [
    "# Model B: Subsample our dataset"
   ]
  },
  {
   "cell_type": "markdown",
   "metadata": {},
   "source": [
    "Importing libraries we will use, nump,y pandas, scikit-learn models and metrics, etc..."
   ]
  },
  {
   "cell_type": "code",
   "execution_count": 1,
   "metadata": {},
   "outputs": [],
   "source": [
    "import numpy as np\n",
    "import pandas as pd\n",
    "from sklearn.model_selection import train_test_split\n",
    "from sklearn.metrics import precision_score, recall_score, f1_score, matthews_corrcoef, roc_auc_score\n",
    "from sklearn.linear_model import LogisticRegression\n",
    "from sklearn.ensemble import RandomForestClassifier, GradientBoostingClassifier\n",
    "\n",
    "from default_risk_package.data import subsample\n",
    "\n",
    "import warnings\n",
    "warnings.simplefilter(action='ignore')\n",
    "\n",
    "seed = 42\n",
    "np.random.seed(seed)"
   ]
  },
  {
   "cell_type": "code",
   "execution_count": 2,
   "metadata": {},
   "outputs": [],
   "source": [
    "# We will use these metrics to check our model performance\n",
    "\n",
    "metrics = [\n",
    "    ('Precision', precision_score, False),\n",
    "    ('Recall', recall_score, False),\n",
    "#     ('MCC', matthews_corrcoef, False),\n",
    "#     ('F1', f1_score, False),\n",
    "     ('ROC-AUC', roc_auc_score, True)\n",
    "]"
   ]
  },
  {
   "cell_type": "markdown",
   "metadata": {},
   "source": [
    "## Load dataset"
   ]
  },
  {
   "cell_type": "markdown",
   "metadata": {},
   "source": [
    "Copy full dataset from cloud to local disk"
   ]
  },
  {
   "cell_type": "code",
   "execution_count": 3,
   "metadata": {},
   "outputs": [],
   "source": [
    "%%bash\n",
    "\n",
    "# mkdir -p input\n",
    "# gsutil cp gs://home-credit-simonyi-workshop/input/application_train.csv input/application_train.csv"
   ]
  },
  {
   "cell_type": "markdown",
   "metadata": {},
   "source": [
    "Load data from local disk."
   ]
  },
  {
   "cell_type": "code",
   "execution_count": 4,
   "metadata": {},
   "outputs": [
    {
     "name": "stdout",
     "output_type": "stream",
     "text": [
      "Train dataset shape (rows, columns):  (307511, 122)\n"
     ]
    }
   ],
   "source": [
    "# train = pd.read_csv('gs://home-credit-simonyi-workshop/input/application_train.subsample.csv')\n",
    "train = pd.read_csv('input/application_train.csv')\n",
    "\n",
    "print('Train dataset shape (rows, columns): ', train.shape)"
   ]
  },
  {
   "cell_type": "markdown",
   "metadata": {},
   "source": [
    "This is a huge dataset with lots of features, for now we will use only 6 features + the target variable."
   ]
  },
  {
   "cell_type": "code",
   "execution_count": 5,
   "metadata": {},
   "outputs": [
    {
     "name": "stdout",
     "output_type": "stream",
     "text": [
      "Train dataset shape (rows, columns):  (307497, 7)\n",
      "Class \"0\" rows: 282672\n",
      "Class \"1\" rows: 24825\n"
     ]
    }
   ],
   "source": [
    "target = 'TARGET'\n",
    "\n",
    "features = [\n",
    "    'DAYS_EMPLOYED',\n",
    "    'DAYS_BIRTH',\n",
    "    'AMT_INCOME_TOTAL',\n",
    "    'AMT_CREDIT',\n",
    "    'CNT_FAM_MEMBERS',\n",
    "    'AMT_ANNUITY',\n",
    "]\n",
    "\n",
    "train = train.loc[:, features + [target]]\n",
    "\n",
    "train.dropna(inplace=True)\n",
    "\n",
    "print('Train dataset shape (rows, columns): ', train.shape)\n",
    "print('Class \"0\" rows:', train[train[target] == 0].shape[0])\n",
    "print('Class \"1\" rows:', train[train[target] == 1].shape[0])"
   ]
  },
  {
   "cell_type": "markdown",
   "metadata": {},
   "source": [
    "## Train-test split"
   ]
  },
  {
   "cell_type": "markdown",
   "metadata": {},
   "source": [
    "We are splitting out dataset into **train** and **validate** sets. We will use the train dataset to train our models, and the validate dataset, to check our results. "
   ]
  },
  {
   "cell_type": "code",
   "execution_count": 6,
   "metadata": {},
   "outputs": [
    {
     "name": "stdout",
     "output_type": "stream",
     "text": [
      "Train features shape:  (153748, 7)\n",
      "Validate features shape:  (153749, 7)\n"
     ]
    }
   ],
   "source": [
    "train, valid = train_test_split(train, test_size=0.5, stratify=train[target], random_state=seed)\n",
    "\n",
    "print('Train features shape: ', train.shape)\n",
    "print('Validate features shape: ', valid.shape)"
   ]
  },
  {
   "cell_type": "markdown",
   "metadata": {},
   "source": [
    "## Make our train dataset balanced"
   ]
  },
  {
   "cell_type": "code",
   "execution_count": 7,
   "metadata": {},
   "outputs": [
    {
     "name": "stdout",
     "output_type": "stream",
     "text": [
      "Train dataset shape (rows, columns):  (24824, 7)\n",
      "Class \"0\" rows in train data: 12412\n",
      "Class \"1\" rows in train data: 12412\n"
     ]
    }
   ],
   "source": [
    "# We prepare balanced dataset for training, but for validation we keep the original distribution.\n",
    "\n",
    "train = subsample(train, train[target])\n",
    "\n",
    "print('Train dataset shape (rows, columns): ', train.shape)\n",
    "print('Class \"0\" rows in train data:', train[train[target] == 0].shape[0])\n",
    "print('Class \"1\" rows in train data:', train[train[target] == 1].shape[0])"
   ]
  },
  {
   "cell_type": "markdown",
   "metadata": {},
   "source": [
    "## Prepare features and target columns"
   ]
  },
  {
   "cell_type": "code",
   "execution_count": 8,
   "metadata": {},
   "outputs": [
    {
     "name": "stdout",
     "output_type": "stream",
     "text": [
      "Train features shape:  (24824, 6)\n",
      "Train target shape:  (24824,)\n",
      "Validate features shape:  (153749, 6)\n",
      "Validate target shape:  (153749,)\n"
     ]
    }
   ],
   "source": [
    "X_train = train.loc[:, features]\n",
    "y_train = train.loc[:, target]\n",
    "X_valid = valid.loc[:, features]\n",
    "y_valid = valid.loc[:, target]\n",
    "\n",
    "print('Train features shape: ', X_train.shape)\n",
    "print('Train target shape: ', y_train.shape)\n",
    "print('Validate features shape: ', X_valid.shape)\n",
    "print('Validate target shape: ', y_valid.shape)"
   ]
  },
  {
   "cell_type": "markdown",
   "metadata": {},
   "source": [
    "## Train the model"
   ]
  },
  {
   "cell_type": "markdown",
   "metadata": {},
   "source": [
    "We use RandomForestClassifier as our model."
   ]
  },
  {
   "cell_type": "code",
   "execution_count": 9,
   "metadata": {},
   "outputs": [],
   "source": [
    "model = RandomForestClassifier(n_estimators=30, random_state=seed, max_depth=3)\n",
    "model.fit(X_train, y_train);"
   ]
  },
  {
   "cell_type": "markdown",
   "metadata": {},
   "source": [
    "Check prediction performance on train dataset."
   ]
  },
  {
   "cell_type": "code",
   "execution_count": 10,
   "metadata": {},
   "outputs": [
    {
     "name": "stdout",
     "output_type": "stream",
     "text": [
      "Precision on train: 0.590\n",
      "Recall on train: 0.619\n",
      "ROC-AUC on train: 0.626\n"
     ]
    }
   ],
   "source": [
    "pred_train = model.predict(X_train)\n",
    "proba_train = model.predict_proba(X_train)[:,1]\n",
    "\n",
    "for m in metrics:\n",
    "    score = m[1](y_train, proba_train) if m[2] else m[1](y_train, pred_train)\n",
    "    print('%s on train: %.3f' % (m[0], score))"
   ]
  },
  {
   "cell_type": "markdown",
   "metadata": {},
   "source": [
    "Of course it is close to perfect, but this is expected. Let's check out model on data which in unknown to our model!"
   ]
  },
  {
   "cell_type": "markdown",
   "metadata": {},
   "source": [
    "## Evaluate model"
   ]
  },
  {
   "cell_type": "code",
   "execution_count": 11,
   "metadata": {},
   "outputs": [],
   "source": [
    "pred_valid = model.predict(X_valid)\n",
    "proba_valid = model.predict_proba(X_valid)[:,1]"
   ]
  },
  {
   "cell_type": "code",
   "execution_count": 12,
   "metadata": {},
   "outputs": [
    {
     "name": "stdout",
     "output_type": "stream",
     "text": [
      "Precision on CV: 0.109\n",
      "Recall on CV: 0.611\n",
      "ROC-AUC on CV: 0.615\n"
     ]
    }
   ],
   "source": [
    "for m in metrics:\n",
    "    score = m[1](y_valid, proba_valid) if m[2] else m[1](y_valid, pred_valid)\n",
    "    print('%s on CV: %.3f' % (m[0], score))"
   ]
  },
  {
   "cell_type": "markdown",
   "metadata": {},
   "source": [
    "## Visualize precision-recall tradeoff"
   ]
  },
  {
   "cell_type": "code",
   "execution_count": 13,
   "metadata": {},
   "outputs": [
    {
     "data": {
      "image/png": "[encoded data removed]",
      "text/plain": [
       "<Figure size 432x288 with 1 Axes>"
      ]
     },
     "metadata": {
      "needs_background": "light"
     },
     "output_type": "display_data"
    }
   ],
   "source": [
    "from sklearn.metrics import auc, roc_curve\n",
    "import matplotlib.pyplot as plt\n",
    "\n",
    "# calculate the fpr and tpr for all thresholds of the classification\n",
    "probs = model.predict_proba(X_valid)\n",
    "preds = probs[:,1]\n",
    "fpr, tpr, threshold = roc_curve(y_valid, preds)\n",
    "roc_auc = auc(fpr, tpr)\n",
    "\n",
    "plt.title('Receiver Operating Characteristic')\n",
    "plt.plot(fpr, tpr, 'b', label = 'AUC = %0.3f' % roc_auc)\n",
    "plt.legend(loc = 'lower right')\n",
    "plt.plot([0, 1], [0, 1],'r--')\n",
    "plt.xlim([0, 1])\n",
    "plt.ylim([0, 1])\n",
    "plt.ylabel('True Positive Rate')\n",
    "plt.xlabel('False Positive Rate')\n",
    "plt.show()"
   ]
  },
  {
   "cell_type": "code",
   "execution_count": 16,
   "metadata": {},
   "outputs": [
    {
     "name": "stderr",
     "output_type": "stream",
     "text": [
      "100%|██████████| 19/19 [00:37<00:00,  1.97s/it]\n"
     ]
    },
    {
     "data": {
      "text/plain": [
       "<matplotlib.axes._subplots.AxesSubplot at 0x7ffb288e6a50>"
      ]
     },
     "execution_count": 16,
     "metadata": {},
     "output_type": "execute_result"
    },
    {
     "data": {
      "image/png": "[encoded data removed]",
      "text/plain": [
       "<Figure size 432x288 with 1 Axes>"
      ]
     },
     "metadata": {
      "needs_background": "light"
     },
     "output_type": "display_data"
    }
   ],
   "source": [
    "from tqdm import tqdm\n",
    "\n",
    "plot = []\n",
    "rng = range(10, 200, 10)\n",
    "for i in tqdm(rng):\n",
    "    model = RandomForestClassifier(n_estimators=i, random_state=seed, max_depth=6)\n",
    "    model.fit(X_train, y_train);\n",
    "    \n",
    "    proba_train = model.predict_proba(X_train)[:,1]\n",
    "    \n",
    "    proba_valid = model.predict_proba(X_valid)[:,1]\n",
    "    \n",
    "    plot.append({\n",
    "        'train': roc_auc_score(y_train, proba_train),\n",
    "        'valid': roc_auc_score(y_valid, proba_valid),\n",
    "    })\n",
    "\n",
    "pd.DataFrame(data=plot, index=rng).plot(title=\"ROC-AUC depending on `n_estimators`.\")"
   ]
  },
  {
   "cell_type": "code",
   "execution_count": 15,
   "metadata": {},
   "outputs": [
    {
     "name": "stderr",
     "output_type": "stream",
     "text": [
      "100%|██████████| 29/29 [00:34<00:00,  1.18s/it]\n"
     ]
    },
    {
     "data": {
      "text/plain": [
       "<matplotlib.axes._subplots.AxesSubplot at 0x7ffb28a4b910>"
      ]
     },
     "execution_count": 15,
     "metadata": {},
     "output_type": "execute_result"
    },
    {
     "data": {
      "image/png": "[encoded data removed]",
      "text/plain": [
       "<Figure size 432x288 with 1 Axes>"
      ]
     },
     "metadata": {
      "needs_background": "light"
     },
     "output_type": "display_data"
    }
   ],
   "source": [
    "from tqdm import tqdm\n",
    "\n",
    "plot = []\n",
    "rng = range(1, 30)\n",
    "for i in tqdm(rng):\n",
    "    model = RandomForestClassifier(n_estimators=30, random_state=seed, max_depth=i)\n",
    "    model.fit(X_train, y_train);\n",
    "    \n",
    "    proba_train = model.predict_proba(X_train)[:,1]\n",
    "    \n",
    "    proba_valid = model.predict_proba(X_valid)[:,1]\n",
    "    \n",
    "    plot.append({\n",
    "        'train': roc_auc_score(y_train, proba_train),\n",
    "        'valid': roc_auc_score(y_valid, proba_valid),\n",
    "    })\n",
    "\n",
    "pd.DataFrame(data=plot, index=rng).plot(title=\"ROC-AUC depending on `max_depth`.\")"
   ]
  }
 ],
 "metadata": {
  "kernelspec": {
   "display_name": "Python 3",
   "language": "python",
   "name": "python3"
  },
  "language_info": {
   "codemirror_mode": {
    "name": "ipython",
    "version": 3
   },
   "file_extension": ".py",
   "mimetype": "text/x-python",
   "name": "python",
   "nbconvert_exporter": "python",
   "pygments_lexer": "ipython3",
   "version": "3.7.6"
  }
 },
 "nbformat": 4,
 "nbformat_minor": 2
}
